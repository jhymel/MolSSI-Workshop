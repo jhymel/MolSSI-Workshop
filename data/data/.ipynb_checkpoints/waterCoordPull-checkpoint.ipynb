{
 "cells": [
  {
   "cell_type": "code",
   "execution_count": 11,
   "metadata": {},
   "outputs": [],
   "source": [
    "import numpy as np\n",
    "import os"
   ]
  },
  {
   "cell_type": "code",
   "execution_count": 12,
   "metadata": {},
   "outputs": [],
   "source": [
    "distance_file = os.path.join('water.xyz')"
   ]
  },
  {
   "cell_type": "code",
   "execution_count": 14,
   "metadata": {},
   "outputs": [
    {
     "name": "stdout",
     "output_type": "stream",
     "text": [
      "[['O' '0.000000' '-0.007156' '0.965491']\n",
      " ['H1' '-0.000000' '0.001486' '-0.003471']\n",
      " ['H2' '0.000000' '0.931026' '1.207929']]\n"
     ]
    }
   ],
   "source": [
    "dist = np.genfromtxt(fname='water.xyz', skip_header = 2, dtype = 'unicode')\n",
    "print (dist)"
   ]
  },
  {
   "cell_type": "code",
   "execution_count": 15,
   "metadata": {},
   "outputs": [
    {
     "name": "stdout",
     "output_type": "stream",
     "text": [
      "['O' 'H1' 'H2']\n"
     ]
    }
   ],
   "source": [
    "atoms = dist[:,0]\n",
    "print (atoms)"
   ]
  },
  {
   "cell_type": "code",
   "execution_count": 29,
   "metadata": {},
   "outputs": [
    {
     "name": "stdout",
     "output_type": "stream",
     "text": [
      "O - H1: 0.969\n",
      "O to H1: 0.969\n",
      "O - H2: 0.969\n",
      "O to H2: 0.969\n"
     ]
    }
   ],
   "source": [
    "for i in range(len(atoms)):\n",
    "    for j in range(len(atoms)):\n",
    "        #if (i != j):\n",
    "            distance = np.sqrt(((float(dist[i,1])-float(dist[j,1]))**2)+((float(dist[i,2])-float(dist[j,2]))**2)+((float(dist[i,3])-float(dist[j,3]))**2))\n",
    "            if (distance > 0) and (distance < 1.5):\n",
    "                if (j > i):\n",
    "                    print(atoms[i] + ' - ' + atoms[j] + ': ' + '%.3f' %(distance))\n",
    "                    print('%s to %s: %.3f' %(atoms[i], atoms[j], distance))"
   ]
  },
  {
   "cell_type": "markdown",
   "metadata": {},
   "source": [
    "### Other approaches"
   ]
  },
  {
   "cell_type": "code",
   "execution_count": 17,
   "metadata": {},
   "outputs": [],
   "source": [
    "symbols = dist[:,0]\n",
    "coordinates = dist[:,1:]"
   ]
  },
  {
   "cell_type": "code",
   "execution_count": null,
   "metadata": {},
   "outputs": [],
   "source": []
  }
 ],
 "metadata": {
  "kernelspec": {
   "display_name": "Python 3",
   "language": "python",
   "name": "python3"
  },
  "language_info": {
   "codemirror_mode": {
    "name": "ipython",
    "version": 3
   },
   "file_extension": ".py",
   "mimetype": "text/x-python",
   "name": "python",
   "nbconvert_exporter": "python",
   "pygments_lexer": "ipython3",
   "version": "3.7.3"
  }
 },
 "nbformat": 4,
 "nbformat_minor": 2
}
