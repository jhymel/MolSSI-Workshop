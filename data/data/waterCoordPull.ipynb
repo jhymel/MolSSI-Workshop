{
 "cells": [
  {
   "cell_type": "code",
   "execution_count": 11,
   "metadata": {},
   "outputs": [],
   "source": [
    "import numpy as np\n",
    "import os"
   ]
  },
  {
   "cell_type": "code",
   "execution_count": 40,
   "metadata": {},
   "outputs": [],
   "source": [
    "distance_file = os.path.join('benzene.xyz')"
   ]
  },
  {
   "cell_type": "code",
   "execution_count": 41,
   "metadata": {},
   "outputs": [
    {
     "name": "stdout",
     "output_type": "stream",
     "text": [
      "[['C' '0.00000' '1.40272' '0.00000']\n",
      " ['H' '0.00000' '2.49029' '0.00000']\n",
      " ['C' '-1.21479' '0.70136' '0.00000']\n",
      " ['H' '-2.15666' '1.24515' '0.00000']\n",
      " ['C' '-1.21479' '-0.70136' '0.00000']\n",
      " ['H' '-2.15666' '-1.24515' '0.00000']\n",
      " ['C' '0.00000' '-1.40272' '0.00000']\n",
      " ['H' '0.00000' '-2.49029' '0.00000']\n",
      " ['C' '1.21479' '-0.70136' '0.00000']\n",
      " ['H' '2.15666' '-1.24515' '0.00000']\n",
      " ['C' '1.21479' '0.70136' '0.00000']\n",
      " ['H' '2.15666' '1.24515' '0.00000']]\n"
     ]
    }
   ],
   "source": [
    "dist = np.genfromtxt(fname=distance_file, skip_header = 2, dtype = 'unicode')\n",
    "print (dist)"
   ]
  },
  {
   "cell_type": "code",
   "execution_count": 42,
   "metadata": {},
   "outputs": [
    {
     "name": "stdout",
     "output_type": "stream",
     "text": [
      "['C' 'H' 'C' 'H' 'C' 'H' 'C' 'H' 'C' 'H' 'C' 'H']\n"
     ]
    }
   ],
   "source": [
    "atoms = dist[:,0]\n",
    "print (atoms)"
   ]
  },
  {
   "cell_type": "code",
   "execution_count": 43,
   "metadata": {},
   "outputs": [],
   "source": [
    "def calculate_distance(atom1, atom2):\n",
    "    x_distance = atom1[0]-atom2[0]\n",
    "    y_distance = atom1[0]-atom2[0]\n",
    "    z_distance = atom1[0]-atom2[0]\n",
    "    distance = np.sqrt(x_distance**2 + y_distance**2 + z_distance**2)\n",
    "    return distance"
   ]
  },
  {
   "cell_type": "code",
   "execution_count": 44,
   "metadata": {},
   "outputs": [],
   "source": [
    "def bond_check(bond_distance, minimum = 0, maxiumum = 1.5):\n",
    "    if (bond_length > minimum) and (bond_length < maximum):\n",
    "        return True\n",
    "    else:\n",
    "        return False\n",
    "    "
   ]
  },
  {
   "cell_type": "code",
   "execution_count": 45,
   "metadata": {},
   "outputs": [
    {
     "name": "stdout",
     "output_type": "stream",
     "text": [
      "C to H: 1.088\n",
      "C to C: 1.403\n",
      "C to C: 1.403\n",
      "C to H: 1.088\n",
      "C to C: 1.403\n",
      "C to H: 1.088\n",
      "C to C: 1.403\n",
      "C to H: 1.088\n",
      "C to C: 1.403\n",
      "C to H: 1.088\n",
      "C to C: 1.403\n",
      "C to H: 1.088\n"
     ]
    }
   ],
   "source": [
    "for i in range(len(atoms)):\n",
    "    for j in range(len(atoms)):\n",
    "        #if (i != j):\n",
    "            distance = np.sqrt(((float(dist[i,1])-float(dist[j,1]))**2)+((float(dist[i,2])-float(dist[j,2]))**2)+((float(dist[i,3])-float(dist[j,3]))**2))\n",
    "            if (distance > 0) and (distance < 1.5):\n",
    "                if (j > i):\n",
    "                    print(atoms[i] + ' to ' + atoms[j] + ': ' + '%.3f' %(distance))\n",
    "                    #print('%s to %s: %.3f' %(atoms[i], atoms[j], distance))"
   ]
  },
  {
   "cell_type": "code",
   "execution_count": null,
   "metadata": {},
   "outputs": [],
   "source": []
  },
  {
   "cell_type": "code",
   "execution_count": 33,
   "metadata": {},
   "outputs": [],
   "source": [
    "def function_name(parameters):\n",
    "    #lines of code\n",
    "    #lines of code\n",
    "    #lines of code\n",
    "    return (value)"
   ]
  },
  {
   "cell_type": "code",
   "execution_count": 17,
   "metadata": {},
   "outputs": [],
   "source": []
  },
  {
   "cell_type": "code",
   "execution_count": null,
   "metadata": {},
   "outputs": [],
   "source": []
  }
 ],
 "metadata": {
  "kernelspec": {
   "display_name": "Python 3",
   "language": "python",
   "name": "python3"
  },
  "language_info": {
   "codemirror_mode": {
    "name": "ipython",
    "version": 3
   },
   "file_extension": ".py",
   "mimetype": "text/x-python",
   "name": "python",
   "nbconvert_exporter": "python",
   "pygments_lexer": "ipython3",
   "version": "3.7.3"
  }
 },
 "nbformat": 4,
 "nbformat_minor": 2
}
