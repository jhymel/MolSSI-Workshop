{
 "cells": [
  {
   "cell_type": "markdown",
   "metadata": {},
   "source": [
    "## File parsing lesson"
   ]
  },
  {
   "cell_type": "markdown",
   "metadata": {},
   "source": [
    "### For shits and gigs"
   ]
  },
  {
   "cell_type": "code",
   "execution_count": 1,
   "metadata": {},
   "outputs": [
    {
     "name": "stdout",
     "output_type": "stream",
     "text": [
      " Volume in drive C is Windows\n",
      " Volume Serial Number is BA3A-D16D\n",
      "\n",
      " Directory of C:\\Users\\hymel\\Desktop\\cms_workshop\\data\\data\n",
      "\n",
      "05/15/2019  02:09 PM    <DIR>          .\n",
      "05/15/2019  02:09 PM    <DIR>          ..\n",
      "05/15/2019  02:07 PM    <DIR>          .ipynb_checkpoints\n",
      "05/15/2019  12:05 PM               619 benzene.xyz\n",
      "05/15/2019  12:05 PM             2,471 buckminsterfullerene.xyz\n",
      "05/15/2019  12:05 PM           355,359 distance_data_headers.csv\n",
      "05/15/2019  02:07 PM             5,189 MolSSI_Workshop_1.ipynb\n",
      "05/15/2019  12:05 PM    <DIR>          outfiles\n",
      "05/15/2019  12:05 PM            61,568 sapt.out\n",
      "05/15/2019  02:09 PM               765 Untitled.ipynb\n",
      "05/15/2019  12:05 PM               155 water.xyz\n",
      "               7 File(s)        426,126 bytes\n",
      "               4 Dir(s)  25,557,684,224 bytes free\n"
     ]
    }
   ],
   "source": [
    "ls"
   ]
  },
  {
   "cell_type": "code",
   "execution_count": 2,
   "metadata": {},
   "outputs": [
    {
     "name": "stdout",
     "output_type": "stream",
     "text": [
      " Volume in drive C is Windows\n",
      " Volume Serial Number is BA3A-D16D\n",
      "\n",
      " Directory of C:\\Users\\hymel\\Desktop\\cms_workshop\\data\\data\\outfiles\n",
      "\n",
      "05/15/2019  12:05 PM    <DIR>          .\n",
      "05/15/2019  12:05 PM    <DIR>          ..\n",
      "05/15/2019  12:05 PM            12,750 butanol.out\n",
      "05/15/2019  12:05 PM            18,728 decanol.out\n",
      "05/15/2019  12:05 PM            10,639 ethanol.out\n",
      "05/15/2019  12:05 PM            15,770 heptanol.out\n",
      "05/15/2019  12:05 PM            14,767 hexanol.out\n",
      "05/15/2019  12:05 PM             9,719 methanol.out\n",
      "05/15/2019  12:05 PM            17,727 nonanol.out\n",
      "05/15/2019  12:05 PM            16,788 octanol.out\n",
      "05/15/2019  12:05 PM            13,762 pentanol.out\n",
      "05/15/2019  12:05 PM            11,710 propanol.out\n",
      "              10 File(s)        142,360 bytes\n",
      "               2 Dir(s)  25,560,326,144 bytes free\n"
     ]
    }
   ],
   "source": [
    "ls outfiles"
   ]
  },
  {
   "cell_type": "code",
   "execution_count": 3,
   "metadata": {},
   "outputs": [
    {
     "data": {
      "text/plain": [
       "'C:\\\\Users\\\\hymel\\\\Desktop\\\\cms_workshop\\\\data\\\\data'"
      ]
     },
     "execution_count": 3,
     "metadata": {},
     "output_type": "execute_result"
    }
   ],
   "source": [
    "pwd"
   ]
  },
  {
   "cell_type": "code",
   "execution_count": 4,
   "metadata": {},
   "outputs": [],
   "source": [
    "import os"
   ]
  },
  {
   "cell_type": "code",
   "execution_count": 8,
   "metadata": {},
   "outputs": [
    {
     "name": "stdout",
     "output_type": "stream",
     "text": [
      "outfiles\\ethanol.out\n"
     ]
    }
   ],
   "source": [
    "ethanol_file = os.path.join('outfiles', 'ethanol.out')\n",
    "print (ethanol_file)"
   ]
  },
  {
   "cell_type": "code",
   "execution_count": 19,
   "metadata": {},
   "outputs": [],
   "source": [
    "outfile = open(ethanol_file, 'r')\n",
    "data = outfile.readlines()\n",
    "outfile.close()"
   ]
  },
  {
   "cell_type": "code",
   "execution_count": 21,
   "metadata": {},
   "outputs": [
    {
     "name": "stdout",
     "output_type": "stream",
     "text": [
      "  @DF-RHF Final Energy:  -154.09130176573018\n",
      "\n"
     ]
    }
   ],
   "source": [
    "for line in data:\n",
    "    if \"Final Energy\" in line:\n",
    "            energy_line = line\n",
    "            print(energy_line)"
   ]
  },
  {
   "cell_type": "code",
   "execution_count": 23,
   "metadata": {},
   "outputs": [
    {
     "name": "stdout",
     "output_type": "stream",
     "text": [
      "['@DF-RHF', 'Final', 'Energy:', '-154.09130176573018']\n"
     ]
    }
   ],
   "source": [
    "words = energy_line.split()\n",
    "print (words)"
   ]
  },
  {
   "cell_type": "code",
   "execution_count": 27,
   "metadata": {},
   "outputs": [
    {
     "name": "stdout",
     "output_type": "stream",
     "text": [
      "-96693.67867971158\n"
     ]
    }
   ],
   "source": [
    "energy = float(words[3])\n",
    "print (energy*627.509)"
   ]
  },
  {
   "cell_type": "code",
   "execution_count": 32,
   "metadata": {},
   "outputs": [],
   "source": [
    "center_line = 0\n",
    "for linenum, line in enumerate(data):\n",
    "    if 'Center' in line:\n",
    "        center_line = linenum"
   ]
  },
  {
   "cell_type": "markdown",
   "metadata": {},
   "source": [
    "### Parsing multiple files"
   ]
  },
  {
   "cell_type": "code",
   "execution_count": 33,
   "metadata": {},
   "outputs": [
    {
     "name": "stdout",
     "output_type": "stream",
     "text": [
      "outfiles\\*.out\n"
     ]
    }
   ],
   "source": [
    "file_location = os.path.join('outfiles', '*.out')\n",
    "print (file_location)"
   ]
  },
  {
   "cell_type": "code",
   "execution_count": 34,
   "metadata": {},
   "outputs": [],
   "source": [
    "import glob"
   ]
  },
  {
   "cell_type": "code",
   "execution_count": 35,
   "metadata": {},
   "outputs": [],
   "source": [
    "filenames = glob.glob(file_location)"
   ]
  },
  {
   "cell_type": "code",
   "execution_count": 36,
   "metadata": {},
   "outputs": [
    {
     "name": "stdout",
     "output_type": "stream",
     "text": [
      "['outfiles\\\\butanol.out', 'outfiles\\\\decanol.out', 'outfiles\\\\ethanol.out', 'outfiles\\\\heptanol.out', 'outfiles\\\\hexanol.out', 'outfiles\\\\methanol.out', 'outfiles\\\\nonanol.out', 'outfiles\\\\octanol.out', 'outfiles\\\\pentanol.out', 'outfiles\\\\propanol.out']\n"
     ]
    }
   ],
   "source": [
    "print (filenames)"
   ]
  },
  {
   "cell_type": "code",
   "execution_count": 45,
   "metadata": {},
   "outputs": [
    {
     "name": "stdout",
     "output_type": "stream",
     "text": [
      "['-232.16557983472831', '-466.38362414000858', '-154.09130176573018', '-349.27397687072676', '-310.23853322516328', '-115.04800861868374', '-427.34651800828152', '-388.31108645547431', '-271.20138119895074', '-193.12836249728798']\n"
     ]
    }
   ],
   "source": [
    "energies = []\n",
    "for f in filenames:\n",
    "    outfile = open(f, 'r')\n",
    "    data = outfile.readlines()\n",
    "    outfile.close()\n",
    "    for line in data:\n",
    "        if \"Final Energy\" in line:\n",
    "            words = line.split()\n",
    "            energies.append(words[3])\n",
    "print(energies)"
   ]
  },
  {
   "cell_type": "code",
   "execution_count": 47,
   "metadata": {},
   "outputs": [
    {
     "name": "stdout",
     "output_type": "stream",
     "text": [
      "outfiles\\butanol.out\n"
     ]
    }
   ],
   "source": [
    "first_file = filenames[0]\n",
    "print(first_file)"
   ]
  },
  {
   "cell_type": "code",
   "execution_count": 48,
   "metadata": {},
   "outputs": [
    {
     "name": "stdout",
     "output_type": "stream",
     "text": [
      "butanol.out\n"
     ]
    }
   ],
   "source": [
    "first_name = os.path.basename(first_file)\n",
    "print(first_name)"
   ]
  },
  {
   "cell_type": "code",
   "execution_count": 58,
   "metadata": {},
   "outputs": [
    {
     "name": "stdout",
     "output_type": "stream",
     "text": [
      "['butanol', 'out']\n"
     ]
    }
   ],
   "source": [
    "print(first_name.split('.'))"
   ]
  },
  {
   "cell_type": "code",
   "execution_count": 72,
   "metadata": {},
   "outputs": [],
   "source": [
    "g = open('values.txt', 'w+')\n",
    "energies = []\n",
    "for f in filenames:\n",
    "    file_name = os.path.basename(f)\n",
    "    molecule_name = file_name.split('.')[0]\n",
    "    outfile = open(f, 'r')\n",
    "    data = outfile.readlines()\n",
    "    outfile.close()\n",
    "    for line in data:\n",
    "        if \"Final Energy\" in line:\n",
    "            word = line.split()[3]\n",
    "    #g = open('output.txt', 'w+')\n",
    "    g.write(str(molecule_name) + '\\t' + str(word) + '\\n')\n",
    "g.close()"
   ]
  },
  {
   "cell_type": "code",
   "execution_count": null,
   "metadata": {},
   "outputs": [],
   "source": []
  },
  {
   "cell_type": "code",
   "execution_count": null,
   "metadata": {},
   "outputs": [],
   "source": []
  }
 ],
 "metadata": {
  "kernelspec": {
   "display_name": "Python 3",
   "language": "python",
   "name": "python3"
  },
  "language_info": {
   "codemirror_mode": {
    "name": "ipython",
    "version": 3
   },
   "file_extension": ".py",
   "mimetype": "text/x-python",
   "name": "python",
   "nbconvert_exporter": "python",
   "pygments_lexer": "ipython3",
   "version": "3.7.3"
  }
 },
 "nbformat": 4,
 "nbformat_minor": 2
}
