{
 "cells": [
  {
   "cell_type": "markdown",
   "metadata": {},
   "source": [
    "### Lesson about Tabular Data"
   ]
  },
  {
   "cell_type": "code",
   "execution_count": 5,
   "metadata": {},
   "outputs": [],
   "source": [
    "import numpy\n",
    "import os"
   ]
  },
  {
   "cell_type": "code",
   "execution_count": 8,
   "metadata": {},
   "outputs": [],
   "source": [
    "distance_file = os.path.join('distance_data_headers.csv')"
   ]
  },
  {
   "cell_type": "code",
   "execution_count": 9,
   "metadata": {},
   "outputs": [
    {
     "name": "stdout",
     "output_type": "stream",
     "text": [
      "[['Frame' 'THR4_ATP' 'THR4_ASP' 'TYR6_ATP' 'TYR6_ASP']\n",
      " ['1' '8.9542' '5.8024' '11.5478' '9.9557']\n",
      " ['2' '8.6181' '6.0942' '13.9594' '11.6945']\n",
      " ...\n",
      " ['9998' '8.6625' '7.7306' '9.5469' '10.3063']\n",
      " ['9999' '9.2456' '7.8886' '9.8151' '10.7564']\n",
      " ['10000' '8.8135' '7.917' '9.9517' '10.7848']]\n"
     ]
    }
   ],
   "source": [
    "distances = numpy.genfromtxt(fname=distance_file , delimiter=',' , dtype = 'unicode')\n",
    "print (distances)"
   ]
  },
  {
   "cell_type": "code",
   "execution_count": 13,
   "metadata": {},
   "outputs": [
    {
     "name": "stdout",
     "output_type": "stream",
     "text": [
      "['Frame' 'THR4_ATP' 'THR4_ASP' 'TYR6_ATP' 'TYR6_ASP']\n"
     ]
    }
   ],
   "source": [
    "headers = distances[0]\n",
    "print(headers)"
   ]
  },
  {
   "cell_type": "code",
   "execution_count": 15,
   "metadata": {},
   "outputs": [
    {
     "name": "stdout",
     "output_type": "stream",
     "text": [
      "[['1' '8.9542' '5.8024' '11.5478' '9.9557']\n",
      " ['2' '8.6181' '6.0942' '13.9594' '11.6945']\n",
      " ['3' '9.0066' '6.0637' '13.0924' '11.3043']\n",
      " ...\n",
      " ['9998' '8.6625' '7.7306' '9.5469' '10.3063']\n",
      " ['9999' '9.2456' '7.8886' '9.8151' '10.7564']\n",
      " ['10000' '8.8135' '7.917' '9.9517' '10.7848']]\n"
     ]
    }
   ],
   "source": [
    "data = distances[1:]\n",
    "print (data)"
   ]
  },
  {
   "cell_type": "code",
   "execution_count": 16,
   "metadata": {},
   "outputs": [
    {
     "name": "stdout",
     "output_type": "stream",
     "text": [
      "1\n"
     ]
    }
   ],
   "source": [
    "print (distances[1,0])"
   ]
  },
  {
   "cell_type": "code",
   "execution_count": 21,
   "metadata": {},
   "outputs": [
    {
     "name": "stdout",
     "output_type": "stream",
     "text": [
      "[['1' '8.9542' '5.8024' '11.5478' '9.9557']\n",
      " ['2' '8.6181' '6.0942' '13.9594' '11.6945']\n",
      " ['3' '9.0066' '6.0637' '13.0924' '11.3043']\n",
      " ...\n",
      " ['9998' '8.6625' '7.7306' '9.5469' '10.3063']\n",
      " ['9999' '9.2456' '7.8886' '9.8151' '10.7564']\n",
      " ['10000' '8.8135' '7.917' '9.9517' '10.7848']]\n"
     ]
    }
   ],
   "source": [
    "small_data = data[:]\n",
    "print (small_data)"
   ]
  },
  {
   "cell_type": "code",
   "execution_count": null,
   "metadata": {},
   "outputs": [],
   "source": []
  },
  {
   "cell_type": "code",
   "execution_count": 34,
   "metadata": {},
   "outputs": [
    {
     "name": "stdout",
     "output_type": "stream",
     "text": [
      "[8.9542 8.6181 9.0066 ... 8.6625 9.2456 8.8135]\n",
      "10.876950930000001\n"
     ]
    }
   ],
   "source": [
    "data = data.astype(numpy.float)\n",
    "numbers = data[:,1]\n",
    "print (numbers)\n",
    "average = numpy.mean(numbers)\n",
    "print (average)"
   ]
  },
  {
   "cell_type": "code",
   "execution_count": 35,
   "metadata": {},
   "outputs": [
    {
     "name": "stdout",
     "output_type": "stream",
     "text": [
      "[5000.5, 10.876950930000001, 7.342344959999999, 11.209791329999998, 10.9934435]\n"
     ]
    }
   ],
   "source": [
    "averages = []\n",
    "for i in range(len(headers)):\n",
    "    numbers = data[:,i]\n",
    "    average = numpy.mean(numbers)\n",
    "    averages.append(average)\n",
    "print (averages)"
   ]
  },
  {
   "cell_type": "code",
   "execution_count": null,
   "metadata": {},
   "outputs": [],
   "source": []
  }
 ],
 "metadata": {
  "kernelspec": {
   "display_name": "Python 3",
   "language": "python",
   "name": "python3"
  },
  "language_info": {
   "codemirror_mode": {
    "name": "ipython",
    "version": 3
   },
   "file_extension": ".py",
   "mimetype": "text/x-python",
   "name": "python",
   "nbconvert_exporter": "python",
   "pygments_lexer": "ipython3",
   "version": "3.7.3"
  }
 },
 "nbformat": 4,
 "nbformat_minor": 2
}
